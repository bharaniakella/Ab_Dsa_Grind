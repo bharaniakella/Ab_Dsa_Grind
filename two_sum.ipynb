{
  "nbformat": 4,
  "nbformat_minor": 0,
  "metadata": {
    "colab": {
      "provenance": []
    },
    "kernelspec": {
      "name": "python3",
      "display_name": "Python 3"
    },
    "language_info": {
      "name": "python"
    }
  },
  "cells": [
    {
      "cell_type": "code",
      "execution_count": null,
      "metadata": {
        "id": "jN_dxbmrJ8mm"
      },
      "outputs": [],
      "source": [
        "class Solution:\n",
        "    def twoSum(self, nums: List[int], target: int) -> List[int]:\n",
        "        my_dict={}\n",
        "        my_complement=0\n",
        "        for i,num in enumerate(nums):\n",
        "            my_complement=target-num\n",
        "            if(my_complement in my_dict):\n",
        "                return ([my_dict[my_complement],i])\n",
        "\n",
        "            else:\n",
        "                my_dict[num]=i\n",
        "\n",
        "\n",
        "\n",
        "\n",
        "\n",
        ""
      ]
    }
  ]
}