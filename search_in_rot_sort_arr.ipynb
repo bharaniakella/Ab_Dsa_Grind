{
  "nbformat": 4,
  "nbformat_minor": 0,
  "metadata": {
    "colab": {
      "provenance": [],
      "authorship_tag": "ABX9TyMHx6F2dnTj8QSLxmVvZMhl",
      "include_colab_link": true
    },
    "kernelspec": {
      "name": "python3",
      "display_name": "Python 3"
    },
    "language_info": {
      "name": "python"
    }
  },
  "cells": [
    {
      "cell_type": "markdown",
      "metadata": {
        "id": "view-in-github",
        "colab_type": "text"
      },
      "source": [
        "<a href=\"https://colab.research.google.com/github/bharaniakella/Ab_Dsa_Grind/blob/main/search_in_rot_sort_arr.ipynb\" target=\"_parent\"><img src=\"https://colab.research.google.com/assets/colab-badge.svg\" alt=\"Open In Colab\"/></a>"
      ]
    },
    {
      "cell_type": "code",
      "execution_count": null,
      "metadata": {
        "id": "6qUbj8gfi2ne"
      },
      "outputs": [],
      "source": [
        "class Solution:\n",
        "    def search(self, nums: List[int], target: int) -> int:\n",
        "        low=0\n",
        "        high=len(nums)-1\n",
        "        while(low<=high):\n",
        "            mid=low+(high-low)//2\n",
        "            if(nums[mid]==target):\n",
        "                return mid\n",
        "            if(nums[low]<=nums[mid]):\n",
        "                if(nums[low]<=target<=nums[mid]):\n",
        "                    high=mid-1\n",
        "                else:\n",
        "                    low=mid+1\n",
        "            else:\n",
        "                if(nums[mid]<=target<=nums[high]):\n",
        "                    low=mid+1\n",
        "                else:\n",
        "                    high=mid-1\n",
        "\n",
        "        return -1\n",
        "\n",
        ""
      ]
    }
  ]
}